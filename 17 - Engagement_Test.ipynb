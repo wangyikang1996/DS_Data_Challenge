{
 "cells": [
  {
   "cell_type": "code",
   "execution_count": 55,
   "metadata": {},
   "outputs": [],
   "source": [
    "import pandas as pd\n",
    "import numpy as np\n",
    "import seaborn as sns\n",
    "import matplotlib.pyplot as plt\n",
    "import warnings\n",
    "from scipy.stats import ttest_ind\n",
    "warnings.simplefilter('ignore')\n",
    "%matplotlib inline"
   ]
  },
  {
   "cell_type": "code",
   "execution_count": 56,
   "metadata": {},
   "outputs": [
    {
     "data": {
      "text/html": [
       "<div>\n",
       "<style scoped>\n",
       "    .dataframe tbody tr th:only-of-type {\n",
       "        vertical-align: middle;\n",
       "    }\n",
       "\n",
       "    .dataframe tbody tr th {\n",
       "        vertical-align: top;\n",
       "    }\n",
       "\n",
       "    .dataframe thead th {\n",
       "        text-align: right;\n",
       "    }\n",
       "</style>\n",
       "<table border=\"1\" class=\"dataframe\">\n",
       "  <thead>\n",
       "    <tr style=\"text-align: right;\">\n",
       "      <th></th>\n",
       "      <th>user_id</th>\n",
       "      <th>signup_date</th>\n",
       "    </tr>\n",
       "  </thead>\n",
       "  <tbody>\n",
       "    <tr>\n",
       "      <th>0</th>\n",
       "      <td>34</td>\n",
       "      <td>2015-01-01</td>\n",
       "    </tr>\n",
       "    <tr>\n",
       "      <th>1</th>\n",
       "      <td>59</td>\n",
       "      <td>2015-01-01</td>\n",
       "    </tr>\n",
       "    <tr>\n",
       "      <th>2</th>\n",
       "      <td>178</td>\n",
       "      <td>2015-01-01</td>\n",
       "    </tr>\n",
       "    <tr>\n",
       "      <th>3</th>\n",
       "      <td>285</td>\n",
       "      <td>2015-01-01</td>\n",
       "    </tr>\n",
       "    <tr>\n",
       "      <th>4</th>\n",
       "      <td>383</td>\n",
       "      <td>2015-01-01</td>\n",
       "    </tr>\n",
       "  </tbody>\n",
       "</table>\n",
       "</div>"
      ],
      "text/plain": [
       "   user_id signup_date\n",
       "0       34  2015-01-01\n",
       "1       59  2015-01-01\n",
       "2      178  2015-01-01\n",
       "3      285  2015-01-01\n",
       "4      383  2015-01-01"
      ]
     },
     "execution_count": 56,
     "metadata": {},
     "output_type": "execute_result"
    }
   ],
   "source": [
    "user = pd.read_csv('user_table.csv', parse_dates = ['signup_date'])\n",
    "user.head()"
   ]
  },
  {
   "cell_type": "code",
   "execution_count": 57,
   "metadata": {},
   "outputs": [
    {
     "data": {
      "text/html": [
       "<div>\n",
       "<style scoped>\n",
       "    .dataframe tbody tr th:only-of-type {\n",
       "        vertical-align: middle;\n",
       "    }\n",
       "\n",
       "    .dataframe tbody tr th {\n",
       "        vertical-align: top;\n",
       "    }\n",
       "\n",
       "    .dataframe thead th {\n",
       "        text-align: right;\n",
       "    }\n",
       "</style>\n",
       "<table border=\"1\" class=\"dataframe\">\n",
       "  <thead>\n",
       "    <tr style=\"text-align: right;\">\n",
       "      <th></th>\n",
       "      <th>user_id</th>\n",
       "      <th>date</th>\n",
       "      <th>browser</th>\n",
       "      <th>test</th>\n",
       "      <th>pages_visited</th>\n",
       "    </tr>\n",
       "  </thead>\n",
       "  <tbody>\n",
       "    <tr>\n",
       "      <th>0</th>\n",
       "      <td>600597</td>\n",
       "      <td>2015-08-13</td>\n",
       "      <td>IE</td>\n",
       "      <td>0</td>\n",
       "      <td>2</td>\n",
       "    </tr>\n",
       "    <tr>\n",
       "      <th>1</th>\n",
       "      <td>4410028</td>\n",
       "      <td>2015-08-26</td>\n",
       "      <td>Chrome</td>\n",
       "      <td>1</td>\n",
       "      <td>5</td>\n",
       "    </tr>\n",
       "    <tr>\n",
       "      <th>2</th>\n",
       "      <td>6004777</td>\n",
       "      <td>2015-08-17</td>\n",
       "      <td>Chrome</td>\n",
       "      <td>0</td>\n",
       "      <td>8</td>\n",
       "    </tr>\n",
       "    <tr>\n",
       "      <th>3</th>\n",
       "      <td>5990330</td>\n",
       "      <td>2015-08-27</td>\n",
       "      <td>Safari</td>\n",
       "      <td>0</td>\n",
       "      <td>8</td>\n",
       "    </tr>\n",
       "    <tr>\n",
       "      <th>4</th>\n",
       "      <td>3622310</td>\n",
       "      <td>2015-08-07</td>\n",
       "      <td>Firefox</td>\n",
       "      <td>0</td>\n",
       "      <td>1</td>\n",
       "    </tr>\n",
       "  </tbody>\n",
       "</table>\n",
       "</div>"
      ],
      "text/plain": [
       "   user_id       date  browser  test  pages_visited\n",
       "0   600597 2015-08-13       IE     0              2\n",
       "1  4410028 2015-08-26   Chrome     1              5\n",
       "2  6004777 2015-08-17   Chrome     0              8\n",
       "3  5990330 2015-08-27   Safari     0              8\n",
       "4  3622310 2015-08-07  Firefox     0              1"
      ]
     },
     "execution_count": 57,
     "metadata": {},
     "output_type": "execute_result"
    }
   ],
   "source": [
    "test = pd.read_csv('test_table.csv', parse_dates = ['date'])\n",
    "test.head()"
   ]
  },
  {
   "cell_type": "code",
   "execution_count": 58,
   "metadata": {},
   "outputs": [
    {
     "data": {
      "text/plain": [
       "user_id        0\n",
       "signup_date    0\n",
       "dtype: int64"
      ]
     },
     "execution_count": 58,
     "metadata": {},
     "output_type": "execute_result"
    }
   ],
   "source": [
    "user.isnull().sum()"
   ]
  },
  {
   "cell_type": "code",
   "execution_count": 59,
   "metadata": {},
   "outputs": [
    {
     "data": {
      "text/plain": [
       "user_id          0\n",
       "date             0\n",
       "browser          0\n",
       "test             0\n",
       "pages_visited    0\n",
       "dtype: int64"
      ]
     },
     "execution_count": 59,
     "metadata": {},
     "output_type": "execute_result"
    }
   ],
   "source": [
    "test.isnull().sum()"
   ]
  },
  {
   "cell_type": "code",
   "execution_count": 60,
   "metadata": {},
   "outputs": [
    {
     "name": "stdout",
     "output_type": "stream",
     "text": [
      "<class 'pandas.core.frame.DataFrame'>\n",
      "RangeIndex: 100000 entries, 0 to 99999\n",
      "Data columns (total 2 columns):\n",
      " #   Column       Non-Null Count   Dtype         \n",
      "---  ------       --------------   -----         \n",
      " 0   user_id      100000 non-null  int64         \n",
      " 1   signup_date  100000 non-null  datetime64[ns]\n",
      "dtypes: datetime64[ns](1), int64(1)\n",
      "memory usage: 1.5 MB\n"
     ]
    }
   ],
   "source": [
    "user.info()"
   ]
  },
  {
   "cell_type": "code",
   "execution_count": 61,
   "metadata": {},
   "outputs": [
    {
     "name": "stdout",
     "output_type": "stream",
     "text": [
      "<class 'pandas.core.frame.DataFrame'>\n",
      "RangeIndex: 100000 entries, 0 to 99999\n",
      "Data columns (total 5 columns):\n",
      " #   Column         Non-Null Count   Dtype         \n",
      "---  ------         --------------   -----         \n",
      " 0   user_id        100000 non-null  int64         \n",
      " 1   date           100000 non-null  datetime64[ns]\n",
      " 2   browser        100000 non-null  object        \n",
      " 3   test           100000 non-null  int64         \n",
      " 4   pages_visited  100000 non-null  int64         \n",
      "dtypes: datetime64[ns](1), int64(3), object(1)\n",
      "memory usage: 3.8+ MB\n"
     ]
    }
   ],
   "source": [
    "test.info()"
   ]
  },
  {
   "cell_type": "code",
   "execution_count": 62,
   "metadata": {},
   "outputs": [
    {
     "data": {
      "text/html": [
       "<div>\n",
       "<style scoped>\n",
       "    .dataframe tbody tr th:only-of-type {\n",
       "        vertical-align: middle;\n",
       "    }\n",
       "\n",
       "    .dataframe tbody tr th {\n",
       "        vertical-align: top;\n",
       "    }\n",
       "\n",
       "    .dataframe thead th {\n",
       "        text-align: right;\n",
       "    }\n",
       "</style>\n",
       "<table border=\"1\" class=\"dataframe\">\n",
       "  <thead>\n",
       "    <tr style=\"text-align: right;\">\n",
       "      <th></th>\n",
       "      <th>user_id</th>\n",
       "      <th>date</th>\n",
       "      <th>browser</th>\n",
       "      <th>test</th>\n",
       "      <th>pages_visited</th>\n",
       "      <th>signup_date</th>\n",
       "    </tr>\n",
       "  </thead>\n",
       "  <tbody>\n",
       "    <tr>\n",
       "      <th>0</th>\n",
       "      <td>600597</td>\n",
       "      <td>2015-08-13</td>\n",
       "      <td>IE</td>\n",
       "      <td>0</td>\n",
       "      <td>2</td>\n",
       "      <td>2015-01-19</td>\n",
       "    </tr>\n",
       "    <tr>\n",
       "      <th>1</th>\n",
       "      <td>4410028</td>\n",
       "      <td>2015-08-26</td>\n",
       "      <td>Chrome</td>\n",
       "      <td>1</td>\n",
       "      <td>5</td>\n",
       "      <td>2015-05-11</td>\n",
       "    </tr>\n",
       "    <tr>\n",
       "      <th>2</th>\n",
       "      <td>6004777</td>\n",
       "      <td>2015-08-17</td>\n",
       "      <td>Chrome</td>\n",
       "      <td>0</td>\n",
       "      <td>8</td>\n",
       "      <td>2015-06-26</td>\n",
       "    </tr>\n",
       "    <tr>\n",
       "      <th>3</th>\n",
       "      <td>5990330</td>\n",
       "      <td>2015-08-27</td>\n",
       "      <td>Safari</td>\n",
       "      <td>0</td>\n",
       "      <td>8</td>\n",
       "      <td>2015-06-25</td>\n",
       "    </tr>\n",
       "    <tr>\n",
       "      <th>4</th>\n",
       "      <td>3622310</td>\n",
       "      <td>2015-08-07</td>\n",
       "      <td>Firefox</td>\n",
       "      <td>0</td>\n",
       "      <td>1</td>\n",
       "      <td>2015-04-17</td>\n",
       "    </tr>\n",
       "  </tbody>\n",
       "</table>\n",
       "</div>"
      ],
      "text/plain": [
       "   user_id       date  browser  test  pages_visited signup_date\n",
       "0   600597 2015-08-13       IE     0              2  2015-01-19\n",
       "1  4410028 2015-08-26   Chrome     1              5  2015-05-11\n",
       "2  6004777 2015-08-17   Chrome     0              8  2015-06-26\n",
       "3  5990330 2015-08-27   Safari     0              8  2015-06-25\n",
       "4  3622310 2015-08-07  Firefox     0              1  2015-04-17"
      ]
     },
     "execution_count": 62,
     "metadata": {},
     "output_type": "execute_result"
    }
   ],
   "source": [
    "data = test.merge(user, on = 'user_id', how = 'left')\n",
    "data.head()"
   ]
  },
  {
   "cell_type": "code",
   "execution_count": 96,
   "metadata": {},
   "outputs": [],
   "source": [
    "#Ref: https://github.com/stasi009/TakeHomeDataChallenges/blob/master/17.EngagementTest/test_engagement.ipynb\n",
    "def run_ttest(df):\n",
    "    test = df.loc[data.test == 1, 'pages_visited']\n",
    "    test_mean = test.mean()\n",
    "    \n",
    "    control = df.loc[data.test == 0, 'pages_visited']\n",
    "    ctrl_mean = control.mean()\n",
    "    \n",
    "    result = ttest_ind(control, test, equal_var=False)\n",
    "    conclusion = 'Significant' if result.pvalue < 0.05 else 'Not Significant'\n",
    "    \n",
    "    return pd.Series({'n_test':test.shape[0],\n",
    "                      'n_ctrl': control.shape[0],\n",
    "                      'mean_test': test_mean,\n",
    "                      'mean_ctrl': ctrl_mean,\n",
    "                      'test-ctrl': test_mean - ctrl_mean,\n",
    "                      'pvalue':result.pvalue,\n",
    "                      'conclusion':conclusion})"
   ]
  },
  {
   "cell_type": "markdown",
   "metadata": {},
   "source": [
    "# Q1\n",
    "Is the test winning? That is, should 100% of the users see the Recommended Friends\n",
    "feature?"
   ]
  },
  {
   "cell_type": "code",
   "execution_count": 97,
   "metadata": {},
   "outputs": [],
   "source": [
    "control = data[data['test'] == 0]\n",
    "experiment = data[data['test'] == 1]"
   ]
  },
  {
   "cell_type": "markdown",
   "metadata": {},
   "source": [
    "Null hypothesis: exp group has no difference with control group for num of pages visted\n",
    "\n",
    "Alternative hypothesis： exp group has higher num of pages visted compared to control group"
   ]
  },
  {
   "cell_type": "code",
   "execution_count": 98,
   "metadata": {},
   "outputs": [
    {
     "data": {
      "text/plain": [
       "4.608393853067447"
      ]
     },
     "execution_count": 98,
     "metadata": {},
     "output_type": "execute_result"
    }
   ],
   "source": [
    "control['pages_visited'].mean()"
   ]
  },
  {
   "cell_type": "code",
   "execution_count": 99,
   "metadata": {},
   "outputs": [
    {
     "data": {
      "text/plain": [
       "4.599692945727161"
      ]
     },
     "execution_count": 99,
     "metadata": {},
     "output_type": "execute_result"
    }
   ],
   "source": [
    "experiment['pages_visited'].mean()"
   ]
  },
  {
   "cell_type": "code",
   "execution_count": 100,
   "metadata": {},
   "outputs": [
    {
     "data": {
      "text/plain": [
       "Ttest_indResult(statistic=0.5574592450809212, pvalue=0.5772149446386227)"
      ]
     },
     "execution_count": 100,
     "metadata": {},
     "output_type": "execute_result"
    }
   ],
   "source": [
    "ttest_ind(a = control['pages_visited'], b = experiment['pages_visited'])"
   ]
  },
  {
   "cell_type": "markdown",
   "metadata": {},
   "source": [
    "P-value > 0.05, which means we cannot reject the null hypothesis, in here the p-value means that given the null hypothesis is true,the probability that we could observe what was in our result with our control and experiment data set is 0.5772149446386227: this value is really large, > 0.05, so we couldn't reject the null hypothesis.\n",
    "\n",
    "So we shoudn't expand this feature to all users 100%"
   ]
  },
  {
   "cell_type": "markdown",
   "metadata": {},
   "source": [
    "# Q2 \n",
    "Is the test performing similarly for all user segments or are there differences among\n",
    "different segments?"
   ]
  },
  {
   "cell_type": "code",
   "execution_count": 101,
   "metadata": {},
   "outputs": [
    {
     "data": {
      "text/html": [
       "<div>\n",
       "<style scoped>\n",
       "    .dataframe tbody tr th:only-of-type {\n",
       "        vertical-align: middle;\n",
       "    }\n",
       "\n",
       "    .dataframe tbody tr th {\n",
       "        vertical-align: top;\n",
       "    }\n",
       "\n",
       "    .dataframe thead th {\n",
       "        text-align: right;\n",
       "    }\n",
       "</style>\n",
       "<table border=\"1\" class=\"dataframe\">\n",
       "  <thead>\n",
       "    <tr style=\"text-align: right;\">\n",
       "      <th></th>\n",
       "      <th>user_id</th>\n",
       "      <th>date</th>\n",
       "      <th>browser</th>\n",
       "      <th>test</th>\n",
       "      <th>pages_visited</th>\n",
       "      <th>signup_date</th>\n",
       "      <th>interval</th>\n",
       "      <th>new_user</th>\n",
       "      <th>dayofweek</th>\n",
       "    </tr>\n",
       "  </thead>\n",
       "  <tbody>\n",
       "    <tr>\n",
       "      <th>0</th>\n",
       "      <td>600597</td>\n",
       "      <td>2015-08-13</td>\n",
       "      <td>IE</td>\n",
       "      <td>0</td>\n",
       "      <td>2</td>\n",
       "      <td>2015-01-19</td>\n",
       "      <td>206</td>\n",
       "      <td>0</td>\n",
       "      <td>3</td>\n",
       "    </tr>\n",
       "    <tr>\n",
       "      <th>1</th>\n",
       "      <td>4410028</td>\n",
       "      <td>2015-08-26</td>\n",
       "      <td>Chrome</td>\n",
       "      <td>1</td>\n",
       "      <td>5</td>\n",
       "      <td>2015-05-11</td>\n",
       "      <td>107</td>\n",
       "      <td>0</td>\n",
       "      <td>2</td>\n",
       "    </tr>\n",
       "    <tr>\n",
       "      <th>2</th>\n",
       "      <td>6004777</td>\n",
       "      <td>2015-08-17</td>\n",
       "      <td>Chrome</td>\n",
       "      <td>0</td>\n",
       "      <td>8</td>\n",
       "      <td>2015-06-26</td>\n",
       "      <td>52</td>\n",
       "      <td>0</td>\n",
       "      <td>0</td>\n",
       "    </tr>\n",
       "    <tr>\n",
       "      <th>3</th>\n",
       "      <td>5990330</td>\n",
       "      <td>2015-08-27</td>\n",
       "      <td>Safari</td>\n",
       "      <td>0</td>\n",
       "      <td>8</td>\n",
       "      <td>2015-06-25</td>\n",
       "      <td>63</td>\n",
       "      <td>0</td>\n",
       "      <td>3</td>\n",
       "    </tr>\n",
       "    <tr>\n",
       "      <th>4</th>\n",
       "      <td>3622310</td>\n",
       "      <td>2015-08-07</td>\n",
       "      <td>Firefox</td>\n",
       "      <td>0</td>\n",
       "      <td>1</td>\n",
       "      <td>2015-04-17</td>\n",
       "      <td>112</td>\n",
       "      <td>0</td>\n",
       "      <td>4</td>\n",
       "    </tr>\n",
       "  </tbody>\n",
       "</table>\n",
       "</div>"
      ],
      "text/plain": [
       "   user_id       date  browser  test  pages_visited signup_date  interval  \\\n",
       "0   600597 2015-08-13       IE     0              2  2015-01-19       206   \n",
       "1  4410028 2015-08-26   Chrome     1              5  2015-05-11       107   \n",
       "2  6004777 2015-08-17   Chrome     0              8  2015-06-26        52   \n",
       "3  5990330 2015-08-27   Safari     0              8  2015-06-25        63   \n",
       "4  3622310 2015-08-07  Firefox     0              1  2015-04-17       112   \n",
       "\n",
       "   new_user  dayofweek  \n",
       "0         0          3  \n",
       "1         0          2  \n",
       "2         0          0  \n",
       "3         0          3  \n",
       "4         0          4  "
      ]
     },
     "execution_count": 101,
     "metadata": {},
     "output_type": "execute_result"
    }
   ],
   "source": [
    "data['interval'] = (data['date'] - data['signup_date']).apply(lambda x: x.days)\n",
    "data['new_user'] = (data['interval'] == 0).astype(int)\n",
    "data['dayofweek'] = data['date'].apply(lambda x: x.dayofweek)\n",
    "data.head()"
   ]
  },
  {
   "cell_type": "markdown",
   "metadata": {},
   "source": [
    "# Browser"
   ]
  },
  {
   "cell_type": "code",
   "execution_count": 102,
   "metadata": {},
   "outputs": [
    {
     "data": {
      "image/png": "[encoded data removed]",
      "text/plain": [
       "<Figure size 1296x432 with 2 Axes>"
      ]
     },
     "metadata": {
      "needs_background": "light"
     },
     "output_type": "display_data"
    }
   ],
   "source": [
    "fig, ax = plt.subplots(nrows=1, ncols=2, figsize=(18, 6))\n",
    "sns.countplot(x='browser', hue='test', data=data, ax=ax[0])\n",
    "sns.barplot(x='browser', y='pages_visited', hue='test', data=data, ax=ax[1])\n",
    "plt.tight_layout()\n",
    "plt.show()"
   ]
  },
  {
   "cell_type": "code",
   "execution_count": 104,
   "metadata": {},
   "outputs": [
    {
     "data": {
      "text/html": [
       "<div>\n",
       "<style scoped>\n",
       "    .dataframe tbody tr th:only-of-type {\n",
       "        vertical-align: middle;\n",
       "    }\n",
       "\n",
       "    .dataframe tbody tr th {\n",
       "        vertical-align: top;\n",
       "    }\n",
       "\n",
       "    .dataframe thead th {\n",
       "        text-align: right;\n",
       "    }\n",
       "</style>\n",
       "<table border=\"1\" class=\"dataframe\">\n",
       "  <thead>\n",
       "    <tr style=\"text-align: right;\">\n",
       "      <th></th>\n",
       "      <th>n_test</th>\n",
       "      <th>n_ctrl</th>\n",
       "      <th>mean_test</th>\n",
       "      <th>mean_ctrl</th>\n",
       "      <th>test-ctrl</th>\n",
       "      <th>pvalue</th>\n",
       "      <th>conclusion</th>\n",
       "    </tr>\n",
       "    <tr>\n",
       "      <th>browser</th>\n",
       "      <th></th>\n",
       "      <th></th>\n",
       "      <th></th>\n",
       "      <th></th>\n",
       "      <th></th>\n",
       "      <th></th>\n",
       "      <th></th>\n",
       "    </tr>\n",
       "  </thead>\n",
       "  <tbody>\n",
       "    <tr>\n",
       "      <th>Chrome</th>\n",
       "      <td>21974</td>\n",
       "      <td>21453</td>\n",
       "      <td>4.690680</td>\n",
       "      <td>4.613341</td>\n",
       "      <td>0.077339</td>\n",
       "      <td>9.434084e-04</td>\n",
       "      <td>Significant</td>\n",
       "    </tr>\n",
       "    <tr>\n",
       "      <th>Firefox</th>\n",
       "      <td>10786</td>\n",
       "      <td>10972</td>\n",
       "      <td>4.714259</td>\n",
       "      <td>4.600164</td>\n",
       "      <td>0.114095</td>\n",
       "      <td>5.817199e-04</td>\n",
       "      <td>Significant</td>\n",
       "    </tr>\n",
       "    <tr>\n",
       "      <th>IE</th>\n",
       "      <td>10974</td>\n",
       "      <td>10906</td>\n",
       "      <td>4.685985</td>\n",
       "      <td>4.598478</td>\n",
       "      <td>0.087507</td>\n",
       "      <td>7.829509e-03</td>\n",
       "      <td>Significant</td>\n",
       "    </tr>\n",
       "    <tr>\n",
       "      <th>Opera</th>\n",
       "      <td>1018</td>\n",
       "      <td>1109</td>\n",
       "      <td>0.000000</td>\n",
       "      <td>4.546438</td>\n",
       "      <td>-4.546438</td>\n",
       "      <td>2.252939e-321</td>\n",
       "      <td>Significant</td>\n",
       "    </tr>\n",
       "    <tr>\n",
       "      <th>Safari</th>\n",
       "      <td>5402</td>\n",
       "      <td>5406</td>\n",
       "      <td>4.692336</td>\n",
       "      <td>4.638180</td>\n",
       "      <td>0.054156</td>\n",
       "      <td>2.411738e-01</td>\n",
       "      <td>Not Significant</td>\n",
       "    </tr>\n",
       "  </tbody>\n",
       "</table>\n",
       "</div>"
      ],
      "text/plain": [
       "         n_test  n_ctrl  mean_test  mean_ctrl  test-ctrl         pvalue  \\\n",
       "browser                                                                   \n",
       "Chrome    21974   21453   4.690680   4.613341   0.077339   9.434084e-04   \n",
       "Firefox   10786   10972   4.714259   4.600164   0.114095   5.817199e-04   \n",
       "IE        10974   10906   4.685985   4.598478   0.087507   7.829509e-03   \n",
       "Opera      1018    1109   0.000000   4.546438  -4.546438  2.252939e-321   \n",
       "Safari     5402    5406   4.692336   4.638180   0.054156   2.411738e-01   \n",
       "\n",
       "              conclusion  \n",
       "browser                   \n",
       "Chrome       Significant  \n",
       "Firefox      Significant  \n",
       "IE           Significant  \n",
       "Opera        Significant  \n",
       "Safari   Not Significant  "
      ]
     },
     "execution_count": 104,
     "metadata": {},
     "output_type": "execute_result"
    }
   ],
   "source": [
    "data.groupby('browser').apply(run_ttest)"
   ]
  },
  {
   "cell_type": "markdown",
   "metadata": {},
   "source": [
    "# New user"
   ]
  },
  {
   "cell_type": "code",
   "execution_count": 69,
   "metadata": {},
   "outputs": [
    {
     "data": {
      "image/png": "[encoded data removed]",
      "text/plain": [
       "<Figure size 1296x432 with 2 Axes>"
      ]
     },
     "metadata": {
      "needs_background": "light"
     },
     "output_type": "display_data"
    }
   ],
   "source": [
    "fig, ax = plt.subplots(nrows=1, ncols=2, figsize=(18, 6))\n",
    "sns.countplot(x='new_user', hue='test', data=data, ax=ax[0])\n",
    "sns.barplot(x='new_user', y='pages_visited', hue='test', data=data, ax=ax[1])\n",
    "plt.tight_layout()\n",
    "plt.show()"
   ]
  },
  {
   "cell_type": "code",
   "execution_count": 105,
   "metadata": {},
   "outputs": [
    {
     "data": {
      "text/html": [
       "<div>\n",
       "<style scoped>\n",
       "    .dataframe tbody tr th:only-of-type {\n",
       "        vertical-align: middle;\n",
       "    }\n",
       "\n",
       "    .dataframe tbody tr th {\n",
       "        vertical-align: top;\n",
       "    }\n",
       "\n",
       "    .dataframe thead th {\n",
       "        text-align: right;\n",
       "    }\n",
       "</style>\n",
       "<table border=\"1\" class=\"dataframe\">\n",
       "  <thead>\n",
       "    <tr style=\"text-align: right;\">\n",
       "      <th></th>\n",
       "      <th>n_test</th>\n",
       "      <th>n_ctrl</th>\n",
       "      <th>mean_test</th>\n",
       "      <th>mean_ctrl</th>\n",
       "      <th>test-ctrl</th>\n",
       "      <th>pvalue</th>\n",
       "      <th>conclusion</th>\n",
       "    </tr>\n",
       "    <tr>\n",
       "      <th>new_user</th>\n",
       "      <th></th>\n",
       "      <th></th>\n",
       "      <th></th>\n",
       "      <th></th>\n",
       "      <th></th>\n",
       "      <th></th>\n",
       "      <th></th>\n",
       "    </tr>\n",
       "  </thead>\n",
       "  <tbody>\n",
       "    <tr>\n",
       "      <th>0</th>\n",
       "      <td>40109</td>\n",
       "      <td>39890</td>\n",
       "      <td>4.622379</td>\n",
       "      <td>4.603284</td>\n",
       "      <td>0.019095</td>\n",
       "      <td>0.261837</td>\n",
       "      <td>Not Significant</td>\n",
       "    </tr>\n",
       "    <tr>\n",
       "      <th>1</th>\n",
       "      <td>10045</td>\n",
       "      <td>9956</td>\n",
       "      <td>4.509109</td>\n",
       "      <td>4.628867</td>\n",
       "      <td>-0.119758</td>\n",
       "      <td>0.001742</td>\n",
       "      <td>Significant</td>\n",
       "    </tr>\n",
       "  </tbody>\n",
       "</table>\n",
       "</div>"
      ],
      "text/plain": [
       "          n_test  n_ctrl  mean_test  mean_ctrl  test-ctrl    pvalue  \\\n",
       "new_user                                                              \n",
       "0          40109   39890   4.622379   4.603284   0.019095  0.261837   \n",
       "1          10045    9956   4.509109   4.628867  -0.119758  0.001742   \n",
       "\n",
       "               conclusion  \n",
       "new_user                   \n",
       "0         Not Significant  \n",
       "1             Significant  "
      ]
     },
     "execution_count": 105,
     "metadata": {},
     "output_type": "execute_result"
    }
   ],
   "source": [
    "data.groupby('new_user').apply(run_ttest)"
   ]
  },
  {
   "cell_type": "markdown",
   "metadata": {},
   "source": [
    "# Day of the week"
   ]
  },
  {
   "cell_type": "code",
   "execution_count": 70,
   "metadata": {},
   "outputs": [
    {
     "data": {
      "image/png": "[encoded data removed]",
      "text/plain": [
       "<Figure size 1296x432 with 2 Axes>"
      ]
     },
     "metadata": {
      "needs_background": "light"
     },
     "output_type": "display_data"
    }
   ],
   "source": [
    "fig, ax = plt.subplots(nrows=1, ncols=2, figsize=(18, 6))\n",
    "sns.countplot(x='dayofweek', hue='test', data=data, ax=ax[0])\n",
    "sns.barplot(x='dayofweek', y='pages_visited', hue='test', data=data, ax=ax[1])\n",
    "plt.tight_layout()\n",
    "plt.show()"
   ]
  },
  {
   "cell_type": "code",
   "execution_count": 106,
   "metadata": {},
   "outputs": [
    {
     "data": {
      "text/html": [
       "<div>\n",
       "<style scoped>\n",
       "    .dataframe tbody tr th:only-of-type {\n",
       "        vertical-align: middle;\n",
       "    }\n",
       "\n",
       "    .dataframe tbody tr th {\n",
       "        vertical-align: top;\n",
       "    }\n",
       "\n",
       "    .dataframe thead th {\n",
       "        text-align: right;\n",
       "    }\n",
       "</style>\n",
       "<table border=\"1\" class=\"dataframe\">\n",
       "  <thead>\n",
       "    <tr style=\"text-align: right;\">\n",
       "      <th></th>\n",
       "      <th>n_test</th>\n",
       "      <th>n_ctrl</th>\n",
       "      <th>mean_test</th>\n",
       "      <th>mean_ctrl</th>\n",
       "      <th>test-ctrl</th>\n",
       "      <th>pvalue</th>\n",
       "      <th>conclusion</th>\n",
       "    </tr>\n",
       "    <tr>\n",
       "      <th>dayofweek</th>\n",
       "      <th></th>\n",
       "      <th></th>\n",
       "      <th></th>\n",
       "      <th></th>\n",
       "      <th></th>\n",
       "      <th></th>\n",
       "      <th></th>\n",
       "    </tr>\n",
       "  </thead>\n",
       "  <tbody>\n",
       "    <tr>\n",
       "      <th>0</th>\n",
       "      <td>8969</td>\n",
       "      <td>9023</td>\n",
       "      <td>4.563942</td>\n",
       "      <td>4.650781</td>\n",
       "      <td>-0.086839</td>\n",
       "      <td>0.017818</td>\n",
       "      <td>Significant</td>\n",
       "    </tr>\n",
       "    <tr>\n",
       "      <th>1</th>\n",
       "      <td>7313</td>\n",
       "      <td>7186</td>\n",
       "      <td>4.552851</td>\n",
       "      <td>4.591845</td>\n",
       "      <td>-0.038994</td>\n",
       "      <td>0.337859</td>\n",
       "      <td>Not Significant</td>\n",
       "    </tr>\n",
       "    <tr>\n",
       "      <th>2</th>\n",
       "      <td>7216</td>\n",
       "      <td>7318</td>\n",
       "      <td>4.617932</td>\n",
       "      <td>4.585816</td>\n",
       "      <td>0.032117</td>\n",
       "      <td>0.430152</td>\n",
       "      <td>Not Significant</td>\n",
       "    </tr>\n",
       "    <tr>\n",
       "      <th>3</th>\n",
       "      <td>7138</td>\n",
       "      <td>7138</td>\n",
       "      <td>4.622723</td>\n",
       "      <td>4.604091</td>\n",
       "      <td>0.018633</td>\n",
       "      <td>0.654807</td>\n",
       "      <td>Not Significant</td>\n",
       "    </tr>\n",
       "    <tr>\n",
       "      <th>4</th>\n",
       "      <td>7328</td>\n",
       "      <td>7202</td>\n",
       "      <td>4.612309</td>\n",
       "      <td>4.586643</td>\n",
       "      <td>0.025666</td>\n",
       "      <td>0.529504</td>\n",
       "      <td>Not Significant</td>\n",
       "    </tr>\n",
       "    <tr>\n",
       "      <th>5</th>\n",
       "      <td>6120</td>\n",
       "      <td>6026</td>\n",
       "      <td>4.615033</td>\n",
       "      <td>4.613010</td>\n",
       "      <td>0.002022</td>\n",
       "      <td>0.964417</td>\n",
       "      <td>Not Significant</td>\n",
       "    </tr>\n",
       "    <tr>\n",
       "      <th>6</th>\n",
       "      <td>6070</td>\n",
       "      <td>5953</td>\n",
       "      <td>4.629489</td>\n",
       "      <td>4.618680</td>\n",
       "      <td>0.010810</td>\n",
       "      <td>0.811739</td>\n",
       "      <td>Not Significant</td>\n",
       "    </tr>\n",
       "  </tbody>\n",
       "</table>\n",
       "</div>"
      ],
      "text/plain": [
       "           n_test  n_ctrl  mean_test  mean_ctrl  test-ctrl    pvalue  \\\n",
       "dayofweek                                                              \n",
       "0            8969    9023   4.563942   4.650781  -0.086839  0.017818   \n",
       "1            7313    7186   4.552851   4.591845  -0.038994  0.337859   \n",
       "2            7216    7318   4.617932   4.585816   0.032117  0.430152   \n",
       "3            7138    7138   4.622723   4.604091   0.018633  0.654807   \n",
       "4            7328    7202   4.612309   4.586643   0.025666  0.529504   \n",
       "5            6120    6026   4.615033   4.613010   0.002022  0.964417   \n",
       "6            6070    5953   4.629489   4.618680   0.010810  0.811739   \n",
       "\n",
       "                conclusion  \n",
       "dayofweek                   \n",
       "0              Significant  \n",
       "1          Not Significant  \n",
       "2          Not Significant  \n",
       "3          Not Significant  \n",
       "4          Not Significant  \n",
       "5          Not Significant  \n",
       "6          Not Significant  "
      ]
     },
     "execution_count": 106,
     "metadata": {},
     "output_type": "execute_result"
    }
   ],
   "source": [
    "data.groupby('dayofweek').apply(run_ttest)"
   ]
  },
  {
   "cell_type": "markdown",
   "metadata": {},
   "source": [
    "\n",
    "For new user, this new feature decrease the num_visted_pages, and the results is significant.\n",
    "\n",
    "For different browser, except for the browser, the Opera browser did not have any experiment responses, any other browser than safari, have a increase in num of page visited with the new feature\n",
    "\n",
    "For the day of the week, it seem like this features is significant on monday."
   ]
  },
  {
   "cell_type": "code",
   "execution_count": 107,
   "metadata": {},
   "outputs": [
    {
     "data": {
      "text/html": [
       "<div>\n",
       "<style scoped>\n",
       "    .dataframe tbody tr th:only-of-type {\n",
       "        vertical-align: middle;\n",
       "    }\n",
       "\n",
       "    .dataframe tbody tr th {\n",
       "        vertical-align: top;\n",
       "    }\n",
       "\n",
       "    .dataframe thead th {\n",
       "        text-align: right;\n",
       "    }\n",
       "</style>\n",
       "<table border=\"1\" class=\"dataframe\">\n",
       "  <thead>\n",
       "    <tr style=\"text-align: right;\">\n",
       "      <th></th>\n",
       "      <th></th>\n",
       "      <th>n_test</th>\n",
       "      <th>n_ctrl</th>\n",
       "      <th>mean_test</th>\n",
       "      <th>mean_ctrl</th>\n",
       "      <th>test-ctrl</th>\n",
       "      <th>pvalue</th>\n",
       "      <th>conclusion</th>\n",
       "    </tr>\n",
       "    <tr>\n",
       "      <th>browser</th>\n",
       "      <th>new_user</th>\n",
       "      <th></th>\n",
       "      <th></th>\n",
       "      <th></th>\n",
       "      <th></th>\n",
       "      <th></th>\n",
       "      <th></th>\n",
       "      <th></th>\n",
       "    </tr>\n",
       "  </thead>\n",
       "  <tbody>\n",
       "    <tr>\n",
       "      <th rowspan=\"2\" valign=\"top\">Chrome</th>\n",
       "      <th>0</th>\n",
       "      <td>17525</td>\n",
       "      <td>17092</td>\n",
       "      <td>4.701512</td>\n",
       "      <td>4.607945</td>\n",
       "      <td>0.093567</td>\n",
       "      <td>2.290889e-04</td>\n",
       "      <td>Significant</td>\n",
       "    </tr>\n",
       "    <tr>\n",
       "      <th>1</th>\n",
       "      <td>4449</td>\n",
       "      <td>4361</td>\n",
       "      <td>4.648011</td>\n",
       "      <td>4.634488</td>\n",
       "      <td>0.013523</td>\n",
       "      <td>8.149175e-01</td>\n",
       "      <td>Not Significant</td>\n",
       "    </tr>\n",
       "    <tr>\n",
       "      <th rowspan=\"2\" valign=\"top\">Firefox</th>\n",
       "      <th>0</th>\n",
       "      <td>8657</td>\n",
       "      <td>8842</td>\n",
       "      <td>4.757306</td>\n",
       "      <td>4.590590</td>\n",
       "      <td>0.166716</td>\n",
       "      <td>3.692901e-06</td>\n",
       "      <td>Significant</td>\n",
       "    </tr>\n",
       "    <tr>\n",
       "      <th>1</th>\n",
       "      <td>2129</td>\n",
       "      <td>2130</td>\n",
       "      <td>4.539220</td>\n",
       "      <td>4.639906</td>\n",
       "      <td>-0.100686</td>\n",
       "      <td>2.210706e-01</td>\n",
       "      <td>Not Significant</td>\n",
       "    </tr>\n",
       "    <tr>\n",
       "      <th rowspan=\"2\" valign=\"top\">IE</th>\n",
       "      <th>0</th>\n",
       "      <td>8779</td>\n",
       "      <td>8744</td>\n",
       "      <td>4.721494</td>\n",
       "      <td>4.590576</td>\n",
       "      <td>0.130918</td>\n",
       "      <td>2.669847e-04</td>\n",
       "      <td>Significant</td>\n",
       "    </tr>\n",
       "    <tr>\n",
       "      <th>1</th>\n",
       "      <td>2195</td>\n",
       "      <td>2162</td>\n",
       "      <td>4.543964</td>\n",
       "      <td>4.630435</td>\n",
       "      <td>-0.086471</td>\n",
       "      <td>2.808421e-01</td>\n",
       "      <td>Not Significant</td>\n",
       "    </tr>\n",
       "    <tr>\n",
       "      <th rowspan=\"2\" valign=\"top\">Opera</th>\n",
       "      <th>0</th>\n",
       "      <td>833</td>\n",
       "      <td>883</td>\n",
       "      <td>0.000000</td>\n",
       "      <td>4.594564</td>\n",
       "      <td>-4.594564</td>\n",
       "      <td>7.204927e-255</td>\n",
       "      <td>Significant</td>\n",
       "    </tr>\n",
       "    <tr>\n",
       "      <th>1</th>\n",
       "      <td>185</td>\n",
       "      <td>226</td>\n",
       "      <td>0.000000</td>\n",
       "      <td>4.358407</td>\n",
       "      <td>-4.358407</td>\n",
       "      <td>1.222949e-68</td>\n",
       "      <td>Significant</td>\n",
       "    </tr>\n",
       "    <tr>\n",
       "      <th rowspan=\"2\" valign=\"top\">Safari</th>\n",
       "      <th>0</th>\n",
       "      <td>4315</td>\n",
       "      <td>4329</td>\n",
       "      <td>4.720973</td>\n",
       "      <td>4.638254</td>\n",
       "      <td>0.082720</td>\n",
       "      <td>1.000829e-01</td>\n",
       "      <td>Not Significant</td>\n",
       "    </tr>\n",
       "    <tr>\n",
       "      <th>1</th>\n",
       "      <td>1087</td>\n",
       "      <td>1077</td>\n",
       "      <td>4.578657</td>\n",
       "      <td>4.637883</td>\n",
       "      <td>-0.059226</td>\n",
       "      <td>6.015241e-01</td>\n",
       "      <td>Not Significant</td>\n",
       "    </tr>\n",
       "  </tbody>\n",
       "</table>\n",
       "</div>"
      ],
      "text/plain": [
       "                  n_test  n_ctrl  mean_test  mean_ctrl  test-ctrl  \\\n",
       "browser new_user                                                    \n",
       "Chrome  0          17525   17092   4.701512   4.607945   0.093567   \n",
       "        1           4449    4361   4.648011   4.634488   0.013523   \n",
       "Firefox 0           8657    8842   4.757306   4.590590   0.166716   \n",
       "        1           2129    2130   4.539220   4.639906  -0.100686   \n",
       "IE      0           8779    8744   4.721494   4.590576   0.130918   \n",
       "        1           2195    2162   4.543964   4.630435  -0.086471   \n",
       "Opera   0            833     883   0.000000   4.594564  -4.594564   \n",
       "        1            185     226   0.000000   4.358407  -4.358407   \n",
       "Safari  0           4315    4329   4.720973   4.638254   0.082720   \n",
       "        1           1087    1077   4.578657   4.637883  -0.059226   \n",
       "\n",
       "                         pvalue       conclusion  \n",
       "browser new_user                                  \n",
       "Chrome  0          2.290889e-04      Significant  \n",
       "        1          8.149175e-01  Not Significant  \n",
       "Firefox 0          3.692901e-06      Significant  \n",
       "        1          2.210706e-01  Not Significant  \n",
       "IE      0          2.669847e-04      Significant  \n",
       "        1          2.808421e-01  Not Significant  \n",
       "Opera   0         7.204927e-255      Significant  \n",
       "        1          1.222949e-68      Significant  \n",
       "Safari  0          1.000829e-01  Not Significant  \n",
       "        1          6.015241e-01  Not Significant  "
      ]
     },
     "execution_count": 107,
     "metadata": {},
     "output_type": "execute_result"
    }
   ],
   "source": [
    "data.groupby(['browser','new_user']).apply(run_ttest)"
   ]
  },
  {
   "cell_type": "markdown",
   "metadata": {},
   "source": [
    "For the combined segments between browser and new user, we could see that for old user, the results is consistent with what we have for the browser individually. \n",
    "\n",
    "However for the old user, we could see a drop in the num of pages visited with this feature, maybe because this new model will recommand friends based on their past history of the social feeds and activity ,and new user might not have them.\n",
    "This is also called a 'cold start' problem."
   ]
  },
  {
   "cell_type": "markdown",
   "metadata": {},
   "source": [
    "# Q3\n",
    "If you identified segments that responded differently to the test, can you guess the\n",
    "reason? Would this change your point 1 conclusions?"
   ]
  },
  {
   "cell_type": "code",
   "execution_count": 71,
   "metadata": {},
   "outputs": [],
   "source": [
    "subset = data[data['browser'] != 'Opera'] "
   ]
  },
  {
   "cell_type": "code",
   "execution_count": 73,
   "metadata": {},
   "outputs": [
    {
     "data": {
      "text/plain": [
       "Chrome     43427\n",
       "IE         21880\n",
       "Firefox    21758\n",
       "Safari     10808\n",
       "Name: browser, dtype: int64"
      ]
     },
     "execution_count": 73,
     "metadata": {},
     "output_type": "execute_result"
    }
   ],
   "source": [
    "subset['browser'].value_counts()"
   ]
  },
  {
   "cell_type": "code",
   "execution_count": 76,
   "metadata": {},
   "outputs": [
    {
     "data": {
      "text/plain": [
       "test\n",
       "0    4.609804\n",
       "1    4.694989\n",
       "Name: pages_visited, dtype: float64"
      ]
     },
     "execution_count": 76,
     "metadata": {},
     "output_type": "execute_result"
    }
   ],
   "source": [
    "subset.groupby('test')['pages_visited'].mean()"
   ]
  },
  {
   "cell_type": "code",
   "execution_count": 77,
   "metadata": {},
   "outputs": [],
   "source": [
    "control = subset[subset['test'] == 0]\n",
    "experiment = subset[subset['test'] == 1]"
   ]
  },
  {
   "cell_type": "code",
   "execution_count": 78,
   "metadata": {},
   "outputs": [
    {
     "data": {
      "text/plain": [
       "Ttest_indResult(statistic=-5.479595897076519, pvalue=4.273456891094664e-08)"
      ]
     },
     "execution_count": 78,
     "metadata": {},
     "output_type": "execute_result"
    }
   ],
   "source": [
    "ttest_ind(a = control['pages_visited'], b = experiment['pages_visited'])"
   ]
  },
  {
   "cell_type": "markdown",
   "metadata": {},
   "source": [
    "Now the p-value 4.273456891094664e-08, which is less than 0.05. So, we can safely reject null hypothesis and expand this feature to the whole user base."
   ]
  }
 ],
 "metadata": {
  "kernelspec": {
   "display_name": "Python 3",
   "language": "python",
   "name": "python3"
  },
  "language_info": {
   "codemirror_mode": {
    "name": "ipython",
    "version": 3
   },
   "file_extension": ".py",
   "mimetype": "text/x-python",
   "name": "python",
   "nbconvert_exporter": "python",
   "pygments_lexer": "ipython3",
   "version": "3.8.3"
  }
 },
 "nbformat": 4,
 "nbformat_minor": 4
}
