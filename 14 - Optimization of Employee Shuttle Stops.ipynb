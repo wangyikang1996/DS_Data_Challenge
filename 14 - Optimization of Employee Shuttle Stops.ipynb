{
 "cells": [
  {
   "cell_type": "code",
   "execution_count": 21,
   "metadata": {},
   "outputs": [],
   "source": [
    "import numpy as np\n",
    "import pandas as pd\n",
    "import seaborn as sns\n",
    "import matplotlib.pyplot as plt\n",
    "import warnings\n",
    "import re\n",
    "from collections import Counter\n",
    "import csv\n",
    "warnings.simplefilter('ignore')\n",
    "%matplotlib inline"
   ]
  },
  {
   "cell_type": "code",
   "execution_count": 7,
   "metadata": {},
   "outputs": [
    {
     "data": {
      "text/html": [
       "<div>\n",
       "<style scoped>\n",
       "    .dataframe tbody tr th:only-of-type {\n",
       "        vertical-align: middle;\n",
       "    }\n",
       "\n",
       "    .dataframe tbody tr th {\n",
       "        vertical-align: top;\n",
       "    }\n",
       "\n",
       "    .dataframe thead th {\n",
       "        text-align: right;\n",
       "    }\n",
       "</style>\n",
       "<table border=\"1\" class=\"dataframe\">\n",
       "  <thead>\n",
       "    <tr style=\"text-align: right;\">\n",
       "      <th></th>\n",
       "      <th>Street_One</th>\n",
       "      <th>Street_Two</th>\n",
       "    </tr>\n",
       "  </thead>\n",
       "  <tbody>\n",
       "    <tr>\n",
       "      <th>0</th>\n",
       "      <td>MISSION ST</td>\n",
       "      <td>ITALY AVE</td>\n",
       "    </tr>\n",
       "    <tr>\n",
       "      <th>1</th>\n",
       "      <td>MISSION ST</td>\n",
       "      <td>NEW MONTGOMERY ST</td>\n",
       "    </tr>\n",
       "    <tr>\n",
       "      <th>2</th>\n",
       "      <td>MISSION ST</td>\n",
       "      <td>01ST ST</td>\n",
       "    </tr>\n",
       "    <tr>\n",
       "      <th>3</th>\n",
       "      <td>MISSION ST</td>\n",
       "      <td>20TH ST</td>\n",
       "    </tr>\n",
       "    <tr>\n",
       "      <th>4</th>\n",
       "      <td>MISSION ST</td>\n",
       "      <td>FREMONT ST</td>\n",
       "    </tr>\n",
       "  </tbody>\n",
       "</table>\n",
       "</div>"
      ],
      "text/plain": [
       "   Street_One         Street_Two\n",
       "0  MISSION ST          ITALY AVE\n",
       "1  MISSION ST  NEW MONTGOMERY ST\n",
       "2  MISSION ST            01ST ST\n",
       "3  MISSION ST            20TH ST\n",
       "4  MISSION ST         FREMONT ST"
      ]
     },
     "execution_count": 7,
     "metadata": {},
     "output_type": "execute_result"
    }
   ],
   "source": [
    "bus = pd.read_csv('Bus_Stops.csv')\n",
    "bus.head()"
   ]
  },
  {
   "cell_type": "code",
   "execution_count": 9,
   "metadata": {},
   "outputs": [
    {
     "data": {
      "text/html": [
       "<div>\n",
       "<style scoped>\n",
       "    .dataframe tbody tr th:only-of-type {\n",
       "        vertical-align: middle;\n",
       "    }\n",
       "\n",
       "    .dataframe tbody tr th {\n",
       "        vertical-align: top;\n",
       "    }\n",
       "\n",
       "    .dataframe thead th {\n",
       "        text-align: right;\n",
       "    }\n",
       "</style>\n",
       "<table border=\"1\" class=\"dataframe\">\n",
       "  <thead>\n",
       "    <tr style=\"text-align: right;\">\n",
       "      <th></th>\n",
       "      <th>address</th>\n",
       "      <th>employee_id</th>\n",
       "    </tr>\n",
       "  </thead>\n",
       "  <tbody>\n",
       "    <tr>\n",
       "      <th>0</th>\n",
       "      <td>98 Edinburgh St, San Francisco, CA 94112, USA</td>\n",
       "      <td>206</td>\n",
       "    </tr>\n",
       "    <tr>\n",
       "      <th>1</th>\n",
       "      <td>237 Accacia St, Daly City, CA 94014, USA</td>\n",
       "      <td>2081</td>\n",
       "    </tr>\n",
       "    <tr>\n",
       "      <th>2</th>\n",
       "      <td>1835 Folsom St, San Francisco, CA 94103, USA</td>\n",
       "      <td>178</td>\n",
       "    </tr>\n",
       "    <tr>\n",
       "      <th>3</th>\n",
       "      <td>170 Cambridge St, San Francisco, CA 94134, USA</td>\n",
       "      <td>50</td>\n",
       "    </tr>\n",
       "    <tr>\n",
       "      <th>4</th>\n",
       "      <td>16 Roanoke St, San Francisco, CA 94131, USA</td>\n",
       "      <td>1863</td>\n",
       "    </tr>\n",
       "  </tbody>\n",
       "</table>\n",
       "</div>"
      ],
      "text/plain": [
       "                                          address  employee_id\n",
       "0   98 Edinburgh St, San Francisco, CA 94112, USA          206\n",
       "1        237 Accacia St, Daly City, CA 94014, USA         2081\n",
       "2    1835 Folsom St, San Francisco, CA 94103, USA          178\n",
       "3  170 Cambridge St, San Francisco, CA 94134, USA           50\n",
       "4     16 Roanoke St, San Francisco, CA 94131, USA         1863"
      ]
     },
     "execution_count": 9,
     "metadata": {},
     "output_type": "execute_result"
    }
   ],
   "source": [
    "addr = pd.read_csv('Employee_Addresses.csv')\n",
    "addr.head()"
   ]
  },
  {
   "cell_type": "code",
   "execution_count": 11,
   "metadata": {},
   "outputs": [
    {
     "name": "stdout",
     "output_type": "stream",
     "text": [
      "<class 'pandas.core.frame.DataFrame'>\n",
      "RangeIndex: 119 entries, 0 to 118\n",
      "Data columns (total 2 columns):\n",
      " #   Column      Non-Null Count  Dtype \n",
      "---  ------      --------------  ----- \n",
      " 0   Street_One  119 non-null    object\n",
      " 1   Street_Two  119 non-null    object\n",
      "dtypes: object(2)\n",
      "memory usage: 2.0+ KB\n"
     ]
    }
   ],
   "source": [
    "bus.info()"
   ]
  },
  {
   "cell_type": "code",
   "execution_count": 12,
   "metadata": {},
   "outputs": [
    {
     "name": "stdout",
     "output_type": "stream",
     "text": [
      "<class 'pandas.core.frame.DataFrame'>\n",
      "RangeIndex: 2191 entries, 0 to 2190\n",
      "Data columns (total 2 columns):\n",
      " #   Column       Non-Null Count  Dtype \n",
      "---  ------       --------------  ----- \n",
      " 0   address      2191 non-null   object\n",
      " 1   employee_id  2191 non-null   int64 \n",
      "dtypes: int64(1), object(1)\n",
      "memory usage: 34.4+ KB\n"
     ]
    }
   ],
   "source": [
    "addr.info()"
   ]
  },
  {
   "cell_type": "code",
   "execution_count": 45,
   "metadata": {},
   "outputs": [],
   "source": [
    "pattern = re.compile(r\"(\\d+) (.+), (.+), CA (\\d+), USA\")\n",
    "employees = []\n",
    "invalid_employees = []"
   ]
  },
  {
   "cell_type": "code",
   "execution_count": 46,
   "metadata": {},
   "outputs": [],
   "source": [
    "class Employee(object):\n",
    "    def __init__(self,line):\n",
    "        # address\n",
    "        matched = pattern.match(line[0])\n",
    "        if matched is None:\n",
    "            raise Exception('format not supported')\n",
    "\n",
    "        self.building_no = int( matched.group(1) )\n",
    "        self.street = matched.group(2).lower()\n",
    "        self.city = matched.group(3)\n",
    "        self.zipcode = int( matched.group(4) )\n",
    "\n",
    "        # employee-id\n",
    "        self.id = int(line[1])"
   ]
  },
  {
   "cell_type": "code",
   "execution_count": 47,
   "metadata": {},
   "outputs": [],
   "source": [
    "with open(\"Employee_Addresses.csv\",\"rt\") as csv_file:\n",
    "    reader = csv.reader(csv_file)\n",
    "    for line in reader:\n",
    "        try:\n",
    "            employees.append(Employee(line))\n",
    "        except:\n",
    "            invalid_employees.append(line[0])\n"
   ]
  },
  {
   "cell_type": "code",
   "execution_count": 82,
   "metadata": {},
   "outputs": [],
   "source": [
    "street_counter = Counter([e.street for e in employees])\n",
    "street_count = pd.Series(street_counter)\n",
    "street_list = street_count.sort_values(ascending = False)"
   ]
  },
  {
   "cell_type": "code",
   "execution_count": 80,
   "metadata": {},
   "outputs": [],
   "source": [
    "bus['Street_Two'] = bus['Street_Two'].str.lower()\n",
    "#addr[addr['address'].str.contains('16th St')]"
   ]
  },
  {
   "cell_type": "code",
   "execution_count": 108,
   "metadata": {},
   "outputs": [
    {
     "data": {
      "text/plain": [
       "['16th st',\n",
       " 'geneva ave',\n",
       " 'silver ave',\n",
       " '15th st',\n",
       " '14th st',\n",
       " 'persia ave',\n",
       " 'bosworth st',\n",
       " '2nd st',\n",
       " '10th st',\n",
       " 'rolph st']"
      ]
     },
     "execution_count": 108,
     "metadata": {},
     "output_type": "execute_result"
    }
   ],
   "source": [
    "counter = 0\n",
    "bus_stop = []\n",
    "for street in street_list.iteritems(): \n",
    "    if counter == 10:\n",
    "        break\n",
    "    if bus[bus['Street_Two'].str.contains(street[0])].shape[0] != 0:\n",
    "        counter += 1\n",
    "        bus_stop.append(street[0])\n",
    "bus_stop"
   ]
  }
 ],
 "metadata": {
  "kernelspec": {
   "display_name": "Python 3",
   "language": "python",
   "name": "python3"
  },
  "language_info": {
   "codemirror_mode": {
    "name": "ipython",
    "version": 3
   },
   "file_extension": ".py",
   "mimetype": "text/x-python",
   "name": "python",
   "nbconvert_exporter": "python",
   "pygments_lexer": "ipython3",
   "version": "3.8.3"
  }
 },
 "nbformat": 4,
 "nbformat_minor": 4
}
